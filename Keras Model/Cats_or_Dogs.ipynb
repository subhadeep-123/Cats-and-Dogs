{
  "nbformat": 4,
  "nbformat_minor": 0,
  "metadata": {
    "colab": {
      "name": "Cats or Dogs.ipynb",
      "version": "0.3.2",
      "provenance": [],
      "collapsed_sections": []
    },
    "kernelspec": {
      "name": "python3",
      "display_name": "Python 3"
    },
    "accelerator": "GPU"
  },
  "cells": [
    {
      "cell_type": "code",
      "metadata": {
        "id": "RuSV8ft6gUVU",
        "colab_type": "code",
        "outputId": "4148deb9-d278-491e-cab0-4c68bb1dab80",
        "colab": {
          "base_uri": "https://localhost:8080/",
          "height": 232
        }
      },
      "source": [
        "!wget https://sds-platform-private.s3-us-east-2.amazonaws.com/uploads/P16-Convolutional-Neural-Networks.zip"
      ],
      "execution_count": 0,
      "outputs": [
        {
          "output_type": "stream",
          "text": [
            "--2019-07-03 07:13:09--  https://sds-platform-private.s3-us-east-2.amazonaws.com/uploads/P16-Convolutional-Neural-Networks.zip\n",
            "Resolving sds-platform-private.s3-us-east-2.amazonaws.com (sds-platform-private.s3-us-east-2.amazonaws.com)... 52.219.84.136\n",
            "Connecting to sds-platform-private.s3-us-east-2.amazonaws.com (sds-platform-private.s3-us-east-2.amazonaws.com)|52.219.84.136|:443... connected.\n",
            "HTTP request sent, awaiting response... 200 OK\n",
            "Length: 233354462 (223M) [application/zip]\n",
            "Saving to: ‘P16-Convolutional-Neural-Networks.zip’\n",
            "\n",
            "P16-Convolutional-N 100%[===================>] 222.54M  71.3MB/s    in 3.1s    \n",
            "\n",
            "2019-07-03 07:13:13 (71.3 MB/s) - ‘P16-Convolutional-Neural-Networks.zip’ saved [233354462/233354462]\n",
            "\n"
          ],
          "name": "stdout"
        }
      ]
    },
    {
      "cell_type": "code",
      "metadata": {
        "id": "KE0LLl2XhJLM",
        "colab_type": "code",
        "colab": {}
      },
      "source": [
        "from zipfile import ZipFile \n",
        "\n",
        "file_name = \"P16-Convolutional-Neural-Networks.zip\"\n",
        "# opening the zip file in READ mode \n",
        "with ZipFile(file_name, 'r') as zip: \n",
        "    # printing all the contents of the zip file \n",
        "    zip.printdir() \n",
        "    # extracting all the files \n",
        "    zip.extractall()\n",
        "    # Closing the zip\n",
        "    zip.close()"
      ],
      "execution_count": 0,
      "outputs": []
    },
    {
      "cell_type": "code",
      "metadata": {
        "id": "dExfaaT2iI8Z",
        "colab_type": "code",
        "outputId": "ff1909a6-57df-4d50-f5f9-b7fba2e5ec3f",
        "colab": {
          "base_uri": "https://localhost:8080/",
          "height": 70
        }
      },
      "source": [
        "import os\n",
        "print(os.getcwd())\n",
        "os.chdir('/content/Convolutional_Neural_Networks/dataset')\n",
        "print(os.getcwd())\n",
        "os.listdir()"
      ],
      "execution_count": 0,
      "outputs": [
        {
          "output_type": "stream",
          "text": [
            "/content/Convolutional_Neural_Networks/dataset\n",
            "/content/Convolutional_Neural_Networks/dataset\n"
          ],
          "name": "stdout"
        },
        {
          "output_type": "execute_result",
          "data": {
            "text/plain": [
              "['training_set', 'test_set', 'single_prediction', '.DS_Store']"
            ]
          },
          "metadata": {
            "tags": []
          },
          "execution_count": 5
        }
      ]
    },
    {
      "cell_type": "code",
      "metadata": {
        "id": "4iiSV_nOJEgW",
        "colab_type": "code",
        "colab": {}
      },
      "source": [
        "#Declaration of parameters needed for training and validation\n",
        "train_data_dir =('training_set')\n",
        "test_data_dir =('test_set')"
      ],
      "execution_count": 0,
      "outputs": []
    },
    {
      "cell_type": "code",
      "metadata": {
        "id": "DVQ-k22HKQQH",
        "colab_type": "code",
        "colab": {}
      },
      "source": [
        "from keras.models import Sequential\n",
        "from keras.layers import Conv2D\n",
        "from keras.layers import MaxPooling2D\n",
        "from keras.layers import Flatten\n",
        "from keras.layers import Dense\n",
        "from keras.optimizers import Adam\n",
        "from keras.layers import Dropout\n",
        "from keras.preprocessing.image import ImageDataGenerator"
      ],
      "execution_count": 0,
      "outputs": []
    },
    {
      "cell_type": "code",
      "metadata": {
        "id": "LOqXCtD2Lpum",
        "colab_type": "code",
        "outputId": "d1a00ab4-6775-42ed-f7b2-230455913947",
        "colab": {
          "base_uri": "https://localhost:8080/",
          "height": 676
        }
      },
      "source": [
        "# Initialising the CNN\n",
        "model = Sequential()\n",
        "\n",
        "# 1st convolution and pooling payer\n",
        "#Convolution Layer\n",
        "model.add(Conv2D(32, \n",
        "                 (3, 3), \n",
        "                 activation = 'relu',\n",
        "                 padding='same',\n",
        "                 input_shape = (128, 128, 3)))\n",
        "#Maxpooling Layer\n",
        "model.add(MaxPooling2D(pool_size=(2, 2)))\n",
        "\n",
        "\n",
        "# 2nd convolution and pooling payer\n",
        "#Convolution Layer\n",
        "model.add(Conv2D(32, \n",
        "                 (3, 3), \n",
        "                 padding='same',\n",
        "                 activation = 'relu'))\n",
        "#Maxpooling Layer\n",
        "model.add(MaxPooling2D(pool_size=(2, 2)))\n",
        "\n",
        "\n",
        "# 3rd convolution and pooling payer\n",
        "#Convolution Layer\n",
        "model.add(Conv2D(32, \n",
        "                 (3, 3), \n",
        "                 padding='same',\n",
        "                 activation = 'relu'))\n",
        "#Maxpooling Layer\n",
        "model.add(MaxPooling2D(pool_size=(2, 2)))\n",
        "\n",
        "\n",
        "#Flattening\n",
        "model.add(Flatten())\n",
        "\n",
        "\n",
        "# Fully Dense connection\n",
        "model.add(Dense(64, \n",
        "                activation='relu'))\n",
        "\n",
        "model.add(Dropout(p=0.6))\n",
        "\n",
        "model.add(Dense(64, \n",
        "                activation='relu'))\n",
        "\n",
        "model.add(Dense(64, \n",
        "                activation='relu'))\n",
        "\n",
        "model.add(Dropout(p=0.3))\n",
        "\n",
        "model.add(Dense(1, \n",
        "                activation='sigmoid'))\n",
        "\n",
        "\n",
        "#Compile the model\n",
        "adam= Adam(lr=0.001, beta_1=0.9, beta_2=0.999, epsilon=None, decay=0.0, amsgrad=False)\n",
        "model.compile(loss='binary_crossentropy',optimizer=adam, metrics=['accuracy'])\n",
        "model.summary()"
      ],
      "execution_count": 0,
      "outputs": [
        {
          "output_type": "stream",
          "text": [
            "/usr/local/lib/python3.6/dist-packages/ipykernel_launcher.py:42: UserWarning: Update your `Dropout` call to the Keras 2 API: `Dropout(rate=0.6)`\n",
            "W0703 07:29:37.673148 140585613363072 nn_ops.py:4224] Large dropout rate: 0.6 (>0.5). In TensorFlow 2.x, dropout() uses dropout rate instead of keep_prob. Please ensure that this is intended.\n"
          ],
          "name": "stderr"
        },
        {
          "output_type": "stream",
          "text": [
            "_________________________________________________________________\n",
            "Layer (type)                 Output Shape              Param #   \n",
            "=================================================================\n",
            "conv2d_13 (Conv2D)           (None, 128, 128, 32)      896       \n",
            "_________________________________________________________________\n",
            "max_pooling2d_13 (MaxPooling (None, 64, 64, 32)        0         \n",
            "_________________________________________________________________\n",
            "conv2d_14 (Conv2D)           (None, 64, 64, 32)        9248      \n",
            "_________________________________________________________________\n",
            "max_pooling2d_14 (MaxPooling (None, 32, 32, 32)        0         \n",
            "_________________________________________________________________\n",
            "conv2d_15 (Conv2D)           (None, 32, 32, 32)        9248      \n",
            "_________________________________________________________________\n",
            "max_pooling2d_15 (MaxPooling (None, 16, 16, 32)        0         \n",
            "_________________________________________________________________\n",
            "flatten_5 (Flatten)          (None, 8192)              0         \n",
            "_________________________________________________________________\n",
            "dense_11 (Dense)             (None, 64)                524352    \n",
            "_________________________________________________________________\n",
            "dropout_5 (Dropout)          (None, 64)                0         \n",
            "_________________________________________________________________\n",
            "dense_12 (Dense)             (None, 64)                4160      \n",
            "_________________________________________________________________\n",
            "dense_13 (Dense)             (None, 64)                4160      \n",
            "_________________________________________________________________\n",
            "dropout_6 (Dropout)          (None, 64)                0         \n",
            "_________________________________________________________________\n",
            "dense_14 (Dense)             (None, 1)                 65        \n",
            "=================================================================\n",
            "Total params: 552,129\n",
            "Trainable params: 552,129\n",
            "Non-trainable params: 0\n",
            "_________________________________________________________________\n"
          ],
          "name": "stdout"
        },
        {
          "output_type": "stream",
          "text": [
            "/usr/local/lib/python3.6/dist-packages/ipykernel_launcher.py:50: UserWarning: Update your `Dropout` call to the Keras 2 API: `Dropout(rate=0.3)`\n"
          ],
          "name": "stderr"
        }
      ]
    },
    {
      "cell_type": "code",
      "metadata": {
        "id": "M1Sa17cGjaI1",
        "colab_type": "code",
        "outputId": "d9fc3ca5-fabf-48ee-871c-261fa310d9f6",
        "colab": {
          "base_uri": "https://localhost:8080/",
          "height": 52
        }
      },
      "source": [
        "#Trainning Agementation\n",
        "train_datagen = ImageDataGenerator(rescale = 1./255,\n",
        "                                   shear_range = 0.2,\n",
        "                                   zoom_range = 0.2,\n",
        "                                   horizontal_flip = True)\n",
        "\n",
        "training_set = train_datagen.flow_from_directory(train_data_dir,\n",
        "                                                 target_size = (128, 128),\n",
        "                                                 batch_size = 32,\n",
        "                                                 class_mode = 'binary')\n",
        "\n",
        "#Test Agementation\n",
        "test_datagen = ImageDataGenerator(rescale = 1./255)\n",
        "\n",
        "test_set = test_datagen.flow_from_directory(test_data_dir,\n",
        "                                            target_size = (128, 128),\n",
        "                                            batch_size = 32,\n",
        "                                            class_mode = 'binary')"
      ],
      "execution_count": 0,
      "outputs": [
        {
          "output_type": "stream",
          "text": [
            "Found 8000 images belonging to 2 classes.\n",
            "Found 2000 images belonging to 2 classes.\n"
          ],
          "name": "stdout"
        }
      ]
    },
    {
      "cell_type": "code",
      "metadata": {
        "id": "R1ajWEOpP9Nt",
        "colab_type": "code",
        "outputId": "5280622e-3360-4b72-b5c2-df46effc7c56",
        "colab": {
          "base_uri": "https://localhost:8080/",
          "height": 321
        }
      },
      "source": [
        "epochs = 10\n",
        "model.fit_generator(training_set,\n",
        "                    steps_per_epoch = 8000,\n",
        "                    epochs = epochs,\n",
        "                    validation_data = test_set,\n",
        "                    validation_steps = 2000) "
      ],
      "execution_count": 0,
      "outputs": [
        {
          "output_type": "stream",
          "text": [
            "Epoch 1/10\n",
            "8000/8000 [==============================] - 1894s 237ms/step - loss: 0.4877 - acc: 0.7569 - val_loss: 0.4119 - val_acc: 0.8296\n",
            "Epoch 2/10\n",
            "8000/8000 [==============================] - 1885s 236ms/step - loss: 0.3384 - acc: 0.8549 - val_loss: 0.4279 - val_acc: 0.8065\n",
            "Epoch 3/10\n",
            "8000/8000 [==============================] - 1900s 237ms/step - loss: 0.2806 - acc: 0.8836 - val_loss: 0.3942 - val_acc: 0.8437\n",
            "Epoch 4/10\n",
            "8000/8000 [==============================] - 1933s 242ms/step - loss: 0.2421 - acc: 0.9021 - val_loss: 0.3770 - val_acc: 0.8425\n",
            "Epoch 5/10\n",
            "8000/8000 [==============================] - 1922s 240ms/step - loss: 0.2091 - acc: 0.9164 - val_loss: 0.4078 - val_acc: 0.8201\n",
            "Epoch 6/10\n",
            "8000/8000 [==============================] - 1946s 243ms/step - loss: 0.1875 - acc: 0.9268 - val_loss: 0.3817 - val_acc: 0.8521\n",
            "Epoch 7/10\n",
            "8000/8000 [==============================] - 1945s 243ms/step - loss: 0.1720 - acc: 0.9334 - val_loss: 0.3639 - val_acc: 0.8523\n",
            "Epoch 8/10\n",
            "2499/8000 [========>.....................] - ETA: 19:45 - loss: 0.1628 - acc: 0.9374Buffered data was truncated after reaching the output size limit."
          ],
          "name": "stdout"
        }
      ]
    },
    {
      "cell_type": "code",
      "metadata": {
        "id": "5HNSeZ5ktZOj",
        "colab_type": "code",
        "colab": {}
      },
      "source": [
        "from keras.models import load_model\n",
        "model.save(\"cats_and_dogs.h5\")"
      ],
      "execution_count": 0,
      "outputs": []
    },
    {
      "cell_type": "code",
      "metadata": {
        "id": "-T5C2-Lz4Wv-",
        "colab_type": "code",
        "outputId": "9649f8bb-8dd0-4f07-d562-657f809787a1",
        "colab": {
          "base_uri": "https://localhost:8080/",
          "height": 572
        }
      },
      "source": [
        "import matplotlib.pyplot as plt\n",
        "%matplotlib inline\n",
        "history = model.history\n",
        "# Plot training & validation accuracy values\n",
        "plt.plot(history.history['acc'])\n",
        "plt.plot(history.history['val_acc'])\n",
        "plt.title('Model accuracy')\n",
        "plt.ylabel('Accuracy')\n",
        "plt.xlabel('Epoch')\n",
        "plt.legend(['Train', 'Test'], loc='upper left')\n",
        "plt.show()\n",
        "\n",
        "# Plot training & validation loss values\n",
        "plt.plot(history.history['loss'])\n",
        "plt.plot(history.history['val_loss'])\n",
        "plt.title('Model loss')\n",
        "plt.ylabel('Loss')\n",
        "plt.xlabel('Epoch')\n",
        "plt.legend(['Train', 'Test'], loc='upper left')\n",
        "plt.show()"
      ],
      "execution_count": 0,
      "outputs": [
        {
          "output_type": "display_data",
          "data": {
            "image/png": "[encoded data removed]",
            "text/plain": [
              "<Figure size 432x288 with 1 Axes>"
            ]
          },
          "metadata": {
            "tags": []
          }
        },
        {
          "output_type": "display_data",
          "data": {
            "image/png": "[encoded data removed]",
            "text/plain": [
              "<Figure size 432x288 with 1 Axes>"
            ]
          },
          "metadata": {
            "tags": []
          }
        }
      ]
    },
    {
      "cell_type": "code",
      "metadata": {
        "id": "9Yt-YNkt3K3l",
        "colab_type": "code",
        "outputId": "abac7814-02dc-41d6-f1eb-34a44e0db960",
        "colab": {
          "base_uri": "https://localhost:8080/",
          "height": 34
        }
      },
      "source": [
        "# Part 3 - Making new predictions\n",
        "\n",
        "import numpy as np\n",
        "from keras.preprocessing import image\n",
        "test_image = image.load_img('./single_prediction/cat_or_dog_2.jpg', \n",
        "                            target_size = (128, 128))\n",
        "test_image = image.img_to_array(test_image)\n",
        "test_image = np.expand_dims(test_image, axis = 0)\n",
        "result = model.predict(test_image)\n",
        "training_set.class_indices\n",
        "if result[0][0] == 1:\n",
        "    prediction = 'dog'\n",
        "    print(prediction)\n",
        "else:\n",
        "    prediction = 'cat'\n",
        "    print(prediction)"
      ],
      "execution_count": 0,
      "outputs": [
        {
          "output_type": "stream",
          "text": [
            "cat\n"
          ],
          "name": "stdout"
        }
      ]
    },
    {
      "cell_type": "code",
      "metadata": {
        "id": "a8cxQP3k6WSb",
        "colab_type": "code",
        "outputId": "15a7f6ac-103d-4e22-a392-e3daf8b895d9",
        "colab": {
          "base_uri": "https://localhost:8080/",
          "height": 52
        }
      },
      "source": [
        "print('Train',model.history.history['acc'][9] * 100)\n",
        "print('Test',model.history.history['val_acc'][9] * 100)"
      ],
      "execution_count": 0,
      "outputs": [
        {
          "output_type": "stream",
          "text": [
            "Train 94.81328125\n",
            "Test 87.44487147177419\n"
          ],
          "name": "stdout"
        }
      ]
    },
    {
      "cell_type": "code",
      "metadata": {
        "id": "kgSNZBdN6udW",
        "colab_type": "code",
        "colab": {}
      },
      "source": [
        ""
      ],
      "execution_count": 0,
      "outputs": []
    }
  ]
}